{
  "nbformat": 4,
  "nbformat_minor": 0,
  "metadata": {
    "colab": {
      "provenance": []
    },
    "kernelspec": {
      "name": "python3",
      "display_name": "Python 3"
    },
    "language_info": {
      "name": "python"
    }
  },
  "cells": [
    {
      "cell_type": "code",
      "source": [
        "import networkx as nx\n",
        "import random\n",
        "import sys\n",
        "import time\n",
        "\n",
        "seed = 123\n",
        "random.seed(seed)"
      ],
      "metadata": {
        "id": "iYeavdEygkbZ"
      },
      "execution_count": 241,
      "outputs": []
    },
    {
      "cell_type": "markdown",
      "source": [
        "# Kruskal code"
      ],
      "metadata": {
        "id": "nq-KxX9Ng0kz"
      }
    },
    {
      "cell_type": "code",
      "source": [
        "class Kruskal:\n",
        "    def __init__(self, vertices):\n",
        "        self.V = vertices\n",
        "        self.graph = []\n",
        "\n",
        "    def addEdge(self, u, v, w):\n",
        "        self.graph.append([u, v, w])\n",
        "\n",
        "    def find(self, parent, i):\n",
        "        if parent[i] != i:\n",
        "            parent[i] = self.find(parent, parent[i])\n",
        "        return parent[i]\n",
        "\n",
        "    def union(self, parent, rank, x, y):\n",
        "        if rank[x] < rank[y]:\n",
        "            parent[x] = y\n",
        "        elif rank[x] > rank[y]:\n",
        "            parent[y] = x\n",
        "\n",
        "        else:\n",
        "            parent[y] = x\n",
        "            rank[x] += 1\n",
        "\n",
        "    def KruskalMST(self):\n",
        "        st = time.time()\n",
        "        result = []\n",
        "\n",
        "        i = 0\n",
        "\n",
        "        e = 0\n",
        "\n",
        "        self.graph = sorted(self.graph,\n",
        "                            key=lambda item: item[2])\n",
        " \n",
        "        parent = []\n",
        "        rank = []\n",
        "\n",
        "        for node in range(self.V):\n",
        "            parent.append(node)\n",
        "            rank.append(0)\n",
        " \n",
        "        while e < self.V - 1:\n",
        "            u, v, w = self.graph[i]\n",
        "            i = i + 1\n",
        "            x = self.find(parent, u)\n",
        "            y = self.find(parent, v)\n",
        "            if x != y:\n",
        "                e = e + 1\n",
        "                result.append([u, v, w])\n",
        "                self.union(parent, rank, x, y)\n",
        "\n",
        "        et = time.time()\n",
        "        \n",
        "        minimumCost = 0\n",
        "        for u, v, weight in result:\n",
        "            minimumCost += weight\n",
        "\n",
        "        print(f\"Minimum Spanning Tree: {minimumCost}\\n Time: {et-st}\")"
      ],
      "metadata": {
        "id": "4Bk0Io18cT9K"
      },
      "execution_count": 320,
      "outputs": []
    },
    {
      "cell_type": "markdown",
      "source": [
        "# Prim code"
      ],
      "metadata": {
        "id": "mhadABLmhVHj"
      }
    },
    {
      "cell_type": "code",
      "source": [
        "class Prim():\n",
        "    def __init__(self, vertices):\n",
        "        self.V = vertices\n",
        "        self.graph = [[0 for column in range(vertices)]\n",
        "                      for row in range(vertices)]\n",
        " \n",
        "    # A utility function to print\n",
        "    # the constructed MST stored in parent[]\n",
        "    def printMST(self, parent, st, et):\n",
        "        minimumCost = 0\n",
        "        for i in range(1, self.V):\n",
        "            minimumCost += self.graph[i][parent[i]]\n",
        "\n",
        "        print(f\"Minimum Spanning Tree: {minimumCost}\\n Time: {et-st}\")\n",
        " \n",
        "    # A utility function to find the vertex with\n",
        "    # minimum distance value, from the set of vertices\n",
        "    # not yet included in shortest path tree\n",
        "    def minKey(self, key, mstSet):\n",
        " \n",
        "        # Initialize min value\n",
        "        min = sys.maxsize\n",
        " \n",
        "        for v in range(self.V):\n",
        "            if key[v] < min and mstSet[v] == False:\n",
        "                min = key[v]\n",
        "                min_index = v\n",
        " \n",
        "        return min_index\n",
        " \n",
        "    # Function to construct and print MST for a graph\n",
        "    # represented using adjacency matrix representation\n",
        "    def primMST(self):\n",
        "        st = time.time()\n",
        "        # Key values used to pick minimum weight edge in cut\n",
        "        key = [sys.maxsize] * self.V\n",
        "        parent = [None] * self.V  # Array to store constructed MST\n",
        "        # Make key 0 so that this vertex is picked as first vertex\n",
        "        key[0] = 0\n",
        "        mstSet = [False] * self.V\n",
        " \n",
        "        parent[0] = -1  # First node is always the root of\n",
        " \n",
        "        for cout in range(self.V):\n",
        " \n",
        "            # Pick the minimum distance vertex from\n",
        "            # the set of vertices not yet processed.\n",
        "            # u is always equal to src in first iteration\n",
        "            u = self.minKey(key, mstSet)\n",
        " \n",
        "            # Put the minimum distance vertex in\n",
        "            # the shortest path tree\n",
        "            mstSet[u] = True\n",
        " \n",
        "            # Update dist value of the adjacent vertices\n",
        "            # of the picked vertex only if the current\n",
        "            # distance is greater than new distance and\n",
        "            # the vertex in not in the shortest path tree\n",
        "            for v in range(self.V):\n",
        " \n",
        "                # graph[u][v] is non zero only for adjacent vertices of m\n",
        "                # mstSet[v] is false for vertices not yet included in MST\n",
        "                # Update the key only if graph[u][v] is smaller than key[v]\n",
        "                if self.graph[u][v] > 0 and mstSet[v] == False \\\n",
        "                and key[v] > self.graph[u][v]:\n",
        "                    key[v] = self.graph[u][v]\n",
        "                    parent[v] = u\n",
        "\n",
        "        et = time.time()\n",
        "\n",
        "        self.printMST(parent, st, et)"
      ],
      "metadata": {
        "id": "66GFVu9_hJuW"
      },
      "execution_count": 327,
      "outputs": []
    },
    {
      "cell_type": "markdown",
      "source": [
        "# Experiment"
      ],
      "metadata": {
        "id": "-g8hWEQRiPjK"
      }
    },
    {
      "cell_type": "markdown",
      "source": [
        "## Sparse graph (N = 1000)"
      ],
      "metadata": {
        "id": "Kf5P-pz4iQ_L"
      }
    },
    {
      "cell_type": "code",
      "source": [
        "def generate_sparse(n=1000, p=0.3, filename='sparse.txt'):\n",
        "    f = open(filename, 'w')\n",
        "    G = nx.erdos_renyi_graph(n, p, seed=seed, directed=False)\n",
        "    f.write(f'{n} {len(G.edges())}\\n')\n",
        "    for edge in G.edges():\n",
        "        u, v = edge\n",
        "        w = random.randint(1, 1000)\n",
        "        f.write(f'{u} {v} {w}\\n')\n",
        "\n",
        "    f.close()"
      ],
      "metadata": {
        "id": "e75W6Sf1cLBL"
      },
      "execution_count": 378,
      "outputs": []
    },
    {
      "cell_type": "code",
      "source": [
        "generate_sparse(n=1000, p=0.01, filename='sparse.txt')"
      ],
      "metadata": {
        "id": "DBnb-EIPcQDU"
      },
      "execution_count": 380,
      "outputs": []
    },
    {
      "cell_type": "markdown",
      "source": [
        "### Kruskal"
      ],
      "metadata": {
        "id": "hltkn_qFiZl6"
      }
    },
    {
      "cell_type": "code",
      "source": [
        "f = open('sparse.txt', 'r')\n",
        "lines = f.readlines()\n",
        "\n",
        "n, m = lines[0].split(' ')\n",
        "m = m[:-1]\n",
        "n, m = int(n), int(m)\n",
        "\n",
        "g = Kruskal(n)\n",
        "for i in range(m):\n",
        "    u, v, w = lines[i + 1].split(' ')\n",
        "    w = w[:-1]\n",
        "    u, v, w = int(u), int(v), int(w)\n",
        "\n",
        "    g.addEdge(u, v, w)\n",
        "f.close()"
      ],
      "metadata": {
        "id": "uF_C-NcViVhH"
      },
      "execution_count": 381,
      "outputs": []
    },
    {
      "cell_type": "code",
      "source": [
        "g.KruskalMST()"
      ],
      "metadata": {
        "colab": {
          "base_uri": "https://localhost:8080/"
        },
        "id": "h1bS3IpUixVY",
        "outputId": "9ea46efa-fcef-4c3f-9fb3-1a78fc9db745"
      },
      "execution_count": 382,
      "outputs": [
        {
          "output_type": "stream",
          "name": "stdout",
          "text": [
            "Minimum Spanning Tree: 116004\n",
            " Time: 0.01941967010498047\n"
          ]
        }
      ]
    },
    {
      "cell_type": "markdown",
      "source": [
        "### Prim"
      ],
      "metadata": {
        "id": "lgK9tS40jkBD"
      }
    },
    {
      "cell_type": "code",
      "source": [
        "f = open('sparse.txt', 'r')\n",
        "lines = f.readlines()\n",
        "\n",
        "n, m = lines[0].split(' ')\n",
        "m = m[:-1]\n",
        "n, m = int(n), int(m)\n",
        "\n",
        "ws = [[0 for j in range(n)] for i in range(n)]\n",
        "g = Prim(n)\n",
        "for i in range(m):\n",
        "    u, v, w = lines[i + 1].split(' ')\n",
        "    w = w[:-1]\n",
        "    u, v, w = int(u), int(v), int(w)\n",
        "\n",
        "    ws[u][v] = w\n",
        "    ws[v][u] = w\n",
        "\n",
        "g.graph = ws\n",
        "f.close()"
      ],
      "metadata": {
        "id": "DqruL-aujkzy"
      },
      "execution_count": 383,
      "outputs": []
    },
    {
      "cell_type": "code",
      "source": [
        "g.primMST()"
      ],
      "metadata": {
        "colab": {
          "base_uri": "https://localhost:8080/"
        },
        "id": "aN7arAsrj2rs",
        "outputId": "0f961e2b-2450-442d-e9a0-8d01f71380fa"
      },
      "execution_count": 384,
      "outputs": [
        {
          "output_type": "stream",
          "name": "stdout",
          "text": [
            "Minimum Spanning Tree: 116004\n",
            " Time: 0.33728456497192383\n"
          ]
        }
      ]
    },
    {
      "cell_type": "markdown",
      "source": [
        "## Dense graph (N = 5000)"
      ],
      "metadata": {
        "id": "ByQn7Vqd11fy"
      }
    },
    {
      "cell_type": "code",
      "source": [
        "def generate_dense(n=1000, filename='dense.txt'):\n",
        "    m = (n * (n + 1) // 2 - n)\n",
        "    f = open(filename, 'w')\n",
        "    s = ''\n",
        "\n",
        "    for i in range(n):\n",
        "        for j in range(i+1, n):\n",
        "            s += f'{i} {j} {random.randint(1, 1000)}\\n'\n",
        "\n",
        "    s = f'{n} {m}\\n' + s\n",
        "\n",
        "    f.write(s)\n",
        "\n",
        "    f.close()"
      ],
      "metadata": {
        "id": "YW1BqjkN5OXB"
      },
      "execution_count": 342,
      "outputs": []
    },
    {
      "cell_type": "code",
      "source": [
        "generate_dense(n=5000, filename='dense.txt')"
      ],
      "metadata": {
        "id": "LTseG4V_11fy"
      },
      "execution_count": 348,
      "outputs": []
    },
    {
      "cell_type": "markdown",
      "source": [
        "### Kruskal"
      ],
      "metadata": {
        "id": "UON1LlwX11fz"
      }
    },
    {
      "cell_type": "code",
      "source": [
        "f = open('dense.txt', 'r')\n",
        "lines = f.readlines()\n",
        "\n",
        "n, m = lines[0].split(' ')\n",
        "m = m[:-1]\n",
        "n, m = int(n), int(m)\n",
        "\n",
        "g = Kruskal(n)\n",
        "for i in range(m):\n",
        "    u, v, w = lines[i + 1].split(' ')\n",
        "    w = w[:-1]\n",
        "    u, v, w = int(u), int(v), int(w)\n",
        "\n",
        "    g.addEdge(u, v, w)\n",
        "f.close()"
      ],
      "metadata": {
        "id": "ljliPG5E11fz"
      },
      "execution_count": 349,
      "outputs": []
    },
    {
      "cell_type": "code",
      "source": [
        "g.KruskalMST()"
      ],
      "metadata": {
        "colab": {
          "base_uri": "https://localhost:8080/"
        },
        "outputId": "7f522d3e-10e3-4b06-83c1-f25afa2a5dcb",
        "id": "z5A3PxeV11fz"
      },
      "execution_count": 350,
      "outputs": [
        {
          "output_type": "stream",
          "name": "stdout",
          "text": [
            "Minimum Spanning Tree: 5038\n",
            " Time: 7.674274206161499\n"
          ]
        }
      ]
    },
    {
      "cell_type": "markdown",
      "source": [
        "### Prim"
      ],
      "metadata": {
        "id": "9QG3Ekap11fz"
      }
    },
    {
      "cell_type": "code",
      "source": [
        "f = open('dense.txt', 'r')\n",
        "lines = f.readlines()\n",
        "\n",
        "n, m = lines[0].split(' ')\n",
        "m = m[:-1]\n",
        "n, m = int(n), int(m)\n",
        "\n",
        "ws = [[0 for j in range(n)] for i in range(n)]\n",
        "g = Prim(n)\n",
        "for i in range(m):\n",
        "    u, v, w = lines[i + 1].split(' ')\n",
        "    w = w[:-1]\n",
        "    u, v, w = int(u), int(v), int(w)\n",
        "\n",
        "    ws[u][v] = w\n",
        "    ws[v][u] = w\n",
        "\n",
        "g.graph = ws\n",
        "f.close()"
      ],
      "metadata": {
        "id": "weComDhE11f0"
      },
      "execution_count": 351,
      "outputs": []
    },
    {
      "cell_type": "code",
      "source": [
        "g.primMST()"
      ],
      "metadata": {
        "colab": {
          "base_uri": "https://localhost:8080/"
        },
        "outputId": "50798d84-06c3-46e8-a26a-ae2e29c0ad33",
        "id": "eEdaWNMf11f0"
      },
      "execution_count": 352,
      "outputs": [
        {
          "output_type": "stream",
          "name": "stdout",
          "text": [
            "Minimum Spanning Tree: 5038\n",
            " Time: 7.587609052658081\n"
          ]
        }
      ]
    },
    {
      "cell_type": "markdown",
      "source": [
        "Kruskal faster on sparse graph, but Prim faster on dense graph."
      ],
      "metadata": {
        "id": "OCRy1c14_FIt"
      }
    }
  ]
}